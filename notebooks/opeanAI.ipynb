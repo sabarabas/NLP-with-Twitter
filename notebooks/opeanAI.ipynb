{
 "cells": [
  {
   "cell_type": "markdown",
   "metadata": {},
   "source": [
    "# Setup"
   ]
  },
  {
   "cell_type": "markdown",
   "metadata": {},
   "source": [
    "## Libraries"
   ]
  },
  {
   "cell_type": "code",
   "execution_count": 1,
   "metadata": {},
   "outputs": [],
   "source": [
    "import os\n",
    "\n",
    "if os.getcwd().endswith('notebooks'):\n",
    "    os.chdir('..')\n",
    "\n",
    "import numpy as np\n",
    "import pandas as pd\n",
    "from tqdm import tqdm\n",
    "from sklearn.metrics import classification_report\n",
    "from sklearn.model_selection import train_test_split\n",
    "\n",
    "from openai import OpenAI\n",
    "from dotenv import load_dotenv"
   ]
  },
  {
   "cell_type": "markdown",
   "metadata": {},
   "source": [
    "## Functions"
   ]
  },
  {
   "cell_type": "code",
   "execution_count": 2,
   "metadata": {},
   "outputs": [],
   "source": [
    "def classify_tweet(client, prompt, keyword, tweet):\n",
    "    \"\"\"\n",
    "    Classify a tweet as related to a natural disaster (1) or not (0) using OpenAI's GPT-4 model.\n",
    "\n",
    "    This function takes a predefined prompt template, a keyword, and a tweet, then uses\n",
    "    the OpenAI API to determine if the tweet is about a natural disaster.\n",
    "\n",
    "    Parameters\n",
    "    ----------\n",
    "    prompt : str\n",
    "        A string template for the classification prompt, with placeholders for keyword and tweet.\n",
    "    keyword : str\n",
    "        A relevant keyword related to potential disasters, or 'N/A' if not available.\n",
    "    tweet : str\n",
    "        The full text of the tweet to be classified.\n",
    "\n",
    "    Returns\n",
    "    -------\n",
    "    int\n",
    "        1 if the tweet is classified as being about a natural disaster, 0 otherwise.\n",
    "\n",
    "    Examples\n",
    "    --------\n",
    "    >>> prompt_template = \"Classify the tweet. Keyword: {keyword}\\\\nTweet: {tweet}\\\\nOutput 1 for disaster, 0 for not.\"\n",
    "    >>> result = classify_tweet(prompt_template, \"earthquake\", \"Just felt a huge shake! #earthquake\")\n",
    "    >>> print(result)\n",
    "    1\n",
    "    \"\"\"\n",
    "    \n",
    "    response = client.chat.completions.create(\n",
    "        model=\"gpt-4o\",\n",
    "        messages=[\n",
    "            {\"role\": \"system\", \"content\": \"You are a precise tweet classifier for natural disasters.\"},\n",
    "            {\"role\": \"user\", \"content\": prompt.format(keyword=keyword, tweet=tweet)}\n",
    "        ],\n",
    "        max_tokens=1,\n",
    "        temperature=0\n",
    "    )\n",
    "    \n",
    "    classification = response.choices[0].message.content.strip()\n",
    "    return int(classification)"
   ]
  },
  {
   "cell_type": "markdown",
   "metadata": {},
   "source": [
    "## Parameters"
   ]
  },
  {
   "cell_type": "code",
   "execution_count": 3,
   "metadata": {},
   "outputs": [],
   "source": [
    "# Load environment file\n",
    "load_dotenv()\n",
    "\n",
    "# Set your API key\n",
    "client = OpenAI(api_key=os.getenv(\"OPENAI_API_KEY\"))\n",
    "\n",
    "# Default prompt for OpenAI\n",
    "prompt = \"\"\"Classify the following tweet as related to a natural disaster (1) or not (0).\n",
    "Keyword: {keyword}\n",
    "Tweet: {tweet}\n",
    "\n",
    "Consider the keyword if provided (N/A means not available). Focus on identifying mentions or implications of natural disasters like earthquakes, hurricanes, floods, wildfires, etc.\n",
    "\n",
    "Output only a single digit: 1 for tweets about natural disasters, 0 for unrelated tweets.\n",
    "\"\"\""
   ]
  },
  {
   "cell_type": "markdown",
   "metadata": {},
   "source": [
    "## Load data"
   ]
  },
  {
   "cell_type": "code",
   "execution_count": 4,
   "metadata": {},
   "outputs": [],
   "source": [
    "# Load dataset\n",
    "df_train = pd.read_csv('data/train.csv', index_col='id')\n",
    "df_test = pd.read_csv('data/test.csv', index_col='id')\n",
    "\n",
    "# Split dataset\n",
    "X = df_train.drop(columns='target')\n",
    "y = df_train['target']\n",
    "\n",
    "X_train, X_val, y_train, y_val = train_test_split(X, y, test_size=0.2, random_state=42)"
   ]
  },
  {
   "cell_type": "markdown",
   "metadata": {},
   "source": [
    "# Main"
   ]
  },
  {
   "cell_type": "markdown",
   "metadata": {},
   "source": [
    "## Preprocess Keywords"
   ]
  },
  {
   "cell_type": "code",
   "execution_count": 5,
   "metadata": {},
   "outputs": [],
   "source": [
    "X_val['keyword'] = X_val.keyword.fillna('N/A')\n",
    "df_test['keyword'] = df_test.keyword.fillna('N/A')"
   ]
  },
  {
   "cell_type": "markdown",
   "metadata": {},
   "source": [
    "## Validation set"
   ]
  },
  {
   "cell_type": "code",
   "execution_count": 6,
   "metadata": {},
   "outputs": [
    {
     "name": "stderr",
     "output_type": "stream",
     "text": [
      "100%|██████████| 1523/1523 [12:53<00:00,  1.97it/s]\n"
     ]
    }
   ],
   "source": [
    "# Compute predictons\n",
    "y_pred = np.array([classify_tweet(client, prompt, row.keyword, row.text) for id,row in tqdm(list(X_val.iterrows()))])"
   ]
  },
  {
   "cell_type": "code",
   "execution_count": 7,
   "metadata": {},
   "outputs": [
    {
     "name": "stdout",
     "output_type": "stream",
     "text": [
      "              precision    recall  f1-score   support\n",
      "\n",
      "           0       0.64      0.99      0.77       874\n",
      "           1       0.94      0.24      0.38       649\n",
      "\n",
      "    accuracy                           0.67      1523\n",
      "   macro avg       0.79      0.61      0.58      1523\n",
      "weighted avg       0.77      0.67      0.61      1523\n",
      "\n"
     ]
    }
   ],
   "source": [
    "# Print metrics\n",
    "print(classification_report(y_val, y_pred))"
   ]
  },
  {
   "cell_type": "markdown",
   "metadata": {},
   "source": [
    "## Test set"
   ]
  },
  {
   "cell_type": "code",
   "execution_count": 8,
   "metadata": {},
   "outputs": [
    {
     "name": "stderr",
     "output_type": "stream",
     "text": [
      "100%|██████████| 3263/3263 [27:37<00:00,  1.97it/s] \n"
     ]
    }
   ],
   "source": [
    "# Compute predictons\n",
    "y_pred = np.array([classify_tweet(client, prompt, row.keyword, row.text) for id,row in tqdm(list(df_test.iterrows()))])"
   ]
  },
  {
   "cell_type": "code",
   "execution_count": 9,
   "metadata": {},
   "outputs": [],
   "source": [
    "# Save predictions\n",
    "df_test_submission = pd.DataFrame({\n",
    "    'id': df_test.index,\n",
    "    'target': y_pred\n",
    "})\n",
    "\n",
    "df_test_submission.to_csv('results/OpenAi_submission.csv', index=False)"
   ]
  }
 ],
 "metadata": {
  "kernelspec": {
   "display_name": ".venv",
   "language": "python",
   "name": "python3"
  },
  "language_info": {
   "codemirror_mode": {
    "name": "ipython",
    "version": 3
   },
   "file_extension": ".py",
   "mimetype": "text/x-python",
   "name": "python",
   "nbconvert_exporter": "python",
   "pygments_lexer": "ipython3",
   "version": "3.12.6"
  }
 },
 "nbformat": 4,
 "nbformat_minor": 2
}
